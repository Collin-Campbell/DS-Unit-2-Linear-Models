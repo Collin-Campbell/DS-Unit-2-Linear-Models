{
  "nbformat": 4,
  "nbformat_minor": 0,
  "metadata": {
    "colab": {
      "name": "2020-10-01_214_guided-project_notes.ipynb",
      "provenance": []
    },
    "kernelspec": {
      "name": "python3",
      "display_name": "Python 3"
    }
  },
  "cells": [
    {
      "cell_type": "markdown",
      "metadata": {
        "id": "aq9Orf4Md1Qi"
      },
      "source": [
        "Lambda School Data Science\n",
        "\n",
        "*Unit 2, Sprint 1, Module 4*\n",
        "\n",
        "---\n",
        "\n",
        "# Logistic Regression\n",
        "- do train/validate/test split\n",
        "- begin with baselines for classification\n",
        "- express and explain the intuition and interpretation of Logistic Regression\n",
        "- use sklearn.linear_model.LogisticRegression to fit and interpret Logistic Regression models\n",
        "\n",
        "Logistic regression is the baseline for classification models, as well as a handy way to predict probabilities (since those too live in the unit interval). While relatively simple, it is also the foundation for more sophisticated classification techniques such as neural networks (many of which can effectively be thought of as networks of logistic models)."
      ]
    },
    {
      "cell_type": "markdown",
      "metadata": {
        "id": "483tCV0elZjq"
      },
      "source": [
        "# Wrangle"
      ]
    },
    {
      "cell_type": "code",
      "metadata": {
        "id": "U6umUF3hdrda"
      },
      "source": [
        "%%capture\n",
        "import sys\n",
        "\n",
        "# If you're on Colab:\n",
        "if 'google.colab' in sys.modules:\n",
        "    DATA_PATH = 'https://raw.githubusercontent.com/LambdaSchool/DS-Unit-2-Linear-Models/master/data/'\n",
        "    !pip install category_encoders==2.*\n",
        "\n",
        "# If you're working locally:\n",
        "else:\n",
        "    DATA_PATH = '../data/'"
      ],
      "execution_count": 1,
      "outputs": []
    },
    {
      "cell_type": "code",
      "metadata": {
        "id": "5y6yDnlmeAAQ"
      },
      "source": [
        "import pandas as pd\n",
        "train = pd.read_csv(DATA_PATH+'titanic/train.csv', index_col='PassengerId')\n",
        "test = pd.read_csv(DATA_PATH+'titanic/test.csv', index_col='PassengerId')"
      ],
      "execution_count": 2,
      "outputs": []
    },
    {
      "cell_type": "markdown",
      "metadata": {
        "id": "7cJM_op7-LAH"
      },
      "source": [
        "## EDA"
      ]
    },
    {
      "cell_type": "code",
      "metadata": {
        "id": "gdngbfJf-JHF",
        "outputId": "1a5913b5-90e4-4e95-a99f-4fcac649d9c2",
        "colab": {
          "base_uri": "https://localhost:8080/",
          "height": 52
        }
      },
      "source": [
        "print(train.shape) # <-- This has the target vector\n",
        "print(test.shape) # <-- This does not"
      ],
      "execution_count": 3,
      "outputs": [
        {
          "output_type": "stream",
          "text": [
            "(891, 11)\n",
            "(418, 10)\n"
          ],
          "name": "stdout"
        }
      ]
    },
    {
      "cell_type": "code",
      "metadata": {
        "id": "Dk_nY3Y2-f0s",
        "outputId": "224cfe61-54c0-46f5-8f3d-0d00a7de6487",
        "colab": {
          "base_uri": "https://localhost:8080/",
          "height": 121
        }
      },
      "source": [
        "train.select_dtypes('object').nunique()"
      ],
      "execution_count": 4,
      "outputs": [
        {
          "output_type": "execute_result",
          "data": {
            "text/plain": [
              "Name        891\n",
              "Sex           2\n",
              "Ticket      681\n",
              "Cabin       147\n",
              "Embarked      3\n",
              "dtype: int64"
            ]
          },
          "metadata": {
            "tags": []
          },
          "execution_count": 4
        }
      ]
    },
    {
      "cell_type": "code",
      "metadata": {
        "id": "t-KRn67i_JUn"
      },
      "source": [
        "def wrangle(df):\n",
        "  df = df.copy()\n",
        "  df.drop(columns=['Name', 'Ticket', 'Cabin'], inplace=True)\n",
        "  return df"
      ],
      "execution_count": 5,
      "outputs": []
    },
    {
      "cell_type": "code",
      "metadata": {
        "id": "7i1tYcO_AMiV"
      },
      "source": [
        "train = wrangle(train)\n",
        "test = wrangle(test)"
      ],
      "execution_count": 6,
      "outputs": []
    },
    {
      "cell_type": "code",
      "metadata": {
        "id": "1I9mDsZCAivQ",
        "outputId": "82f4a0a8-c952-4281-c688-d14db724ae51",
        "colab": {
          "base_uri": "https://localhost:8080/",
          "height": 233
        }
      },
      "source": [
        "train.head()"
      ],
      "execution_count": 7,
      "outputs": [
        {
          "output_type": "execute_result",
          "data": {
            "text/html": [
              "<div>\n",
              "<style scoped>\n",
              "    .dataframe tbody tr th:only-of-type {\n",
              "        vertical-align: middle;\n",
              "    }\n",
              "\n",
              "    .dataframe tbody tr th {\n",
              "        vertical-align: top;\n",
              "    }\n",
              "\n",
              "    .dataframe thead th {\n",
              "        text-align: right;\n",
              "    }\n",
              "</style>\n",
              "<table border=\"1\" class=\"dataframe\">\n",
              "  <thead>\n",
              "    <tr style=\"text-align: right;\">\n",
              "      <th></th>\n",
              "      <th>Survived</th>\n",
              "      <th>Pclass</th>\n",
              "      <th>Sex</th>\n",
              "      <th>Age</th>\n",
              "      <th>SibSp</th>\n",
              "      <th>Parch</th>\n",
              "      <th>Fare</th>\n",
              "      <th>Embarked</th>\n",
              "    </tr>\n",
              "    <tr>\n",
              "      <th>PassengerId</th>\n",
              "      <th></th>\n",
              "      <th></th>\n",
              "      <th></th>\n",
              "      <th></th>\n",
              "      <th></th>\n",
              "      <th></th>\n",
              "      <th></th>\n",
              "      <th></th>\n",
              "    </tr>\n",
              "  </thead>\n",
              "  <tbody>\n",
              "    <tr>\n",
              "      <th>1</th>\n",
              "      <td>0</td>\n",
              "      <td>3</td>\n",
              "      <td>male</td>\n",
              "      <td>22.0</td>\n",
              "      <td>1</td>\n",
              "      <td>0</td>\n",
              "      <td>7.2500</td>\n",
              "      <td>S</td>\n",
              "    </tr>\n",
              "    <tr>\n",
              "      <th>2</th>\n",
              "      <td>1</td>\n",
              "      <td>1</td>\n",
              "      <td>female</td>\n",
              "      <td>38.0</td>\n",
              "      <td>1</td>\n",
              "      <td>0</td>\n",
              "      <td>71.2833</td>\n",
              "      <td>C</td>\n",
              "    </tr>\n",
              "    <tr>\n",
              "      <th>3</th>\n",
              "      <td>1</td>\n",
              "      <td>3</td>\n",
              "      <td>female</td>\n",
              "      <td>26.0</td>\n",
              "      <td>0</td>\n",
              "      <td>0</td>\n",
              "      <td>7.9250</td>\n",
              "      <td>S</td>\n",
              "    </tr>\n",
              "    <tr>\n",
              "      <th>4</th>\n",
              "      <td>1</td>\n",
              "      <td>1</td>\n",
              "      <td>female</td>\n",
              "      <td>35.0</td>\n",
              "      <td>1</td>\n",
              "      <td>0</td>\n",
              "      <td>53.1000</td>\n",
              "      <td>S</td>\n",
              "    </tr>\n",
              "    <tr>\n",
              "      <th>5</th>\n",
              "      <td>0</td>\n",
              "      <td>3</td>\n",
              "      <td>male</td>\n",
              "      <td>35.0</td>\n",
              "      <td>0</td>\n",
              "      <td>0</td>\n",
              "      <td>8.0500</td>\n",
              "      <td>S</td>\n",
              "    </tr>\n",
              "  </tbody>\n",
              "</table>\n",
              "</div>"
            ],
            "text/plain": [
              "             Survived  Pclass     Sex   Age  SibSp  Parch     Fare Embarked\n",
              "PassengerId                                                                \n",
              "1                   0       3    male  22.0      1      0   7.2500        S\n",
              "2                   1       1  female  38.0      1      0  71.2833        C\n",
              "3                   1       3  female  26.0      0      0   7.9250        S\n",
              "4                   1       1  female  35.0      1      0  53.1000        S\n",
              "5                   0       3    male  35.0      0      0   8.0500        S"
            ]
          },
          "metadata": {
            "tags": []
          },
          "execution_count": 7
        }
      ]
    },
    {
      "cell_type": "code",
      "metadata": {
        "id": "aSWgapU_AkGd",
        "outputId": "d682c838-ca86-493a-d442-f72d1d43cfc1",
        "colab": {
          "base_uri": "https://localhost:8080/",
          "height": 69
        }
      },
      "source": [
        "train['Survived'].value_counts(normalize=True)"
      ],
      "execution_count": 8,
      "outputs": [
        {
          "output_type": "execute_result",
          "data": {
            "text/plain": [
              "0    0.616162\n",
              "1    0.383838\n",
              "Name: Survived, dtype: float64"
            ]
          },
          "metadata": {
            "tags": []
          },
          "execution_count": 8
        }
      ]
    },
    {
      "cell_type": "markdown",
      "metadata": {
        "id": "pG5OpXV8BFt3"
      },
      "source": [
        "# Split Data"
      ]
    },
    {
      "cell_type": "markdown",
      "metadata": {
        "id": "a3ebk4HfBJf5"
      },
      "source": [
        "## Split our TV from our FM"
      ]
    },
    {
      "cell_type": "code",
      "metadata": {
        "id": "PaBpP_N7Ayo_"
      },
      "source": [
        "target = 'Survived'\n",
        "y = train[target]\n",
        "X = train.drop(columns=target)"
      ],
      "execution_count": 9,
      "outputs": []
    },
    {
      "cell_type": "markdown",
      "metadata": {
        "id": "hf3DO2MoBsBJ"
      },
      "source": [
        "## Split our training set into training and **validation** sets\n",
        "\n",
        "We already have a test set. However, since we can only use the test set to assess model performance _after_ we've completed the model, we need data that we can use to _estimate_ test error, data that will allow us to tune our model.\n",
        "\n",
        "This is an **cross-validation** strategy. We'll discuss other strategies later on."
      ]
    },
    {
      "cell_type": "code",
      "metadata": {
        "id": "ykC0ACtkBZc2"
      },
      "source": [
        "from sklearn.model_selection import train_test_split\n",
        "\n",
        "X_train, X_val, y_train, y_val = train_test_split(X, y, test_size=0.2, random_state=42)"
      ],
      "execution_count": 10,
      "outputs": []
    },
    {
      "cell_type": "markdown",
      "metadata": {
        "id": "DN2Dcp3nFbbe"
      },
      "source": [
        "# Establish Baseline\n",
        "\n",
        "- **Q:** Is this a **regresion** or a **classification** problem?\n",
        "- **A:** Classification, so our baseline metric is going to be `accuracy_score`."
      ]
    },
    {
      "cell_type": "code",
      "metadata": {
        "id": "TmNyyBzOFawG",
        "outputId": "661ff694-2d0e-4b84-a047-a160ac2bfc62",
        "colab": {
          "base_uri": "https://localhost:8080/",
          "height": 35
        }
      },
      "source": [
        "# What is your majority class?\n",
        "print('Baseline accuracy:', y_train.value_counts(normalize=True).max())"
      ],
      "execution_count": 11,
      "outputs": [
        {
          "output_type": "stream",
          "text": [
            "Baseline accuracy: 0.6235955056179775\n"
          ],
          "name": "stdout"
        }
      ]
    },
    {
      "cell_type": "markdown",
      "metadata": {
        "id": "E_KQtmzEGwoH"
      },
      "source": [
        "# Build Our `LinearRegression` Model"
      ]
    },
    {
      "cell_type": "markdown",
      "metadata": {
        "id": "JywIoZITHO4Y"
      },
      "source": [
        "Two issues:\n",
        "\n",
        "- Categorical features that need to be encoded\n",
        "- Missing values that need to be **imputed**."
      ]
    },
    {
      "cell_type": "code",
      "metadata": {
        "id": "jh5C9iUkGv-Z",
        "outputId": "1f533e3f-6040-4583-9561-fb09b8b4046a",
        "colab": {
          "base_uri": "https://localhost:8080/",
          "height": 72
        }
      },
      "source": [
        "from category_encoders import OneHotEncoder\n",
        "from sklearn.impute import SimpleImputer\n",
        "from sklearn.linear_model import LinearRegression, LogisticRegression\n",
        "from sklearn.pipeline import make_pipeline\n",
        "from sklearn.preprocessing import StandardScaler"
      ],
      "execution_count": 12,
      "outputs": [
        {
          "output_type": "stream",
          "text": [
            "/usr/local/lib/python3.6/dist-packages/statsmodels/tools/_testing.py:19: FutureWarning: pandas.util.testing is deprecated. Use the functions in the public API at pandas.testing instead.\n",
            "  import pandas.util.testing as tm\n"
          ],
          "name": "stderr"
        }
      ]
    },
    {
      "cell_type": "code",
      "metadata": {
        "id": "KwixhyryGt8P",
        "outputId": "507ae11a-bf46-4554-b049-6da6b5637e72",
        "colab": {
          "base_uri": "https://localhost:8080/",
          "height": 72
        }
      },
      "source": [
        "model_lin = make_pipeline(\n",
        "       OneHotEncoder(use_cat_names=True),\n",
        "       SimpleImputer(),\n",
        "       StandardScaler(),\n",
        "       LinearRegression()\n",
        ")\n",
        "\n",
        "model_lin.fit(X_train, y_train);"
      ],
      "execution_count": 13,
      "outputs": [
        {
          "output_type": "stream",
          "text": [
            "/usr/local/lib/python3.6/dist-packages/category_encoders/utils.py:21: FutureWarning: is_categorical is deprecated and will be removed in a future version.  Use is_categorical_dtype instead\n",
            "  elif pd.api.types.is_categorical(cols):\n"
          ],
          "name": "stderr"
        }
      ]
    },
    {
      "cell_type": "markdown",
      "metadata": {
        "id": "z2DB54rxLEmo"
      },
      "source": [
        "**Question:** How can we access parts of our pipeline? Like if we want to see what our transformed data looks like?"
      ]
    },
    {
      "cell_type": "code",
      "metadata": {
        "id": "qHej8SNTLDxw",
        "outputId": "e63fc3e8-39b3-4e70-c986-3b52eba42027",
        "colab": {
          "base_uri": "https://localhost:8080/",
          "height": 257
        }
      },
      "source": [
        "example = make_pipeline(\n",
        "       OneHotEncoder(use_cat_names=True),\n",
        "       SimpleImputer(),\n",
        "       StandardScaler()\n",
        ")\n",
        "\n",
        "XT_train = example.fit_transform(X_train)\n",
        "\n",
        "# Use `named_steps`\n",
        "col_names = example.named_steps['onehotencoder'].get_feature_names()\n",
        "pd.DataFrame(XT_train, columns=col_names).head()"
      ],
      "execution_count": 14,
      "outputs": [
        {
          "output_type": "stream",
          "text": [
            "/usr/local/lib/python3.6/dist-packages/category_encoders/utils.py:21: FutureWarning: is_categorical is deprecated and will be removed in a future version.  Use is_categorical_dtype instead\n",
            "  elif pd.api.types.is_categorical(cols):\n"
          ],
          "name": "stderr"
        },
        {
          "output_type": "execute_result",
          "data": {
            "text/html": [
              "<div>\n",
              "<style scoped>\n",
              "    .dataframe tbody tr th:only-of-type {\n",
              "        vertical-align: middle;\n",
              "    }\n",
              "\n",
              "    .dataframe tbody tr th {\n",
              "        vertical-align: top;\n",
              "    }\n",
              "\n",
              "    .dataframe thead th {\n",
              "        text-align: right;\n",
              "    }\n",
              "</style>\n",
              "<table border=\"1\" class=\"dataframe\">\n",
              "  <thead>\n",
              "    <tr style=\"text-align: right;\">\n",
              "      <th></th>\n",
              "      <th>Pclass</th>\n",
              "      <th>Sex_male</th>\n",
              "      <th>Sex_female</th>\n",
              "      <th>Age</th>\n",
              "      <th>SibSp</th>\n",
              "      <th>Parch</th>\n",
              "      <th>Fare</th>\n",
              "      <th>Embarked_S</th>\n",
              "      <th>Embarked_C</th>\n",
              "      <th>Embarked_Q</th>\n",
              "      <th>Embarked_nan</th>\n",
              "    </tr>\n",
              "  </thead>\n",
              "  <tbody>\n",
              "    <tr>\n",
              "      <th>0</th>\n",
              "      <td>-1.614136</td>\n",
              "      <td>0.724310</td>\n",
              "      <td>-0.724310</td>\n",
              "      <td>1.232263</td>\n",
              "      <td>-0.470722</td>\n",
              "      <td>-0.479342</td>\n",
              "      <td>-0.078684</td>\n",
              "      <td>0.596817</td>\n",
              "      <td>-0.461462</td>\n",
              "      <td>-0.303355</td>\n",
              "      <td>-0.053074</td>\n",
              "    </tr>\n",
              "    <tr>\n",
              "      <th>1</th>\n",
              "      <td>-0.400551</td>\n",
              "      <td>0.724310</td>\n",
              "      <td>-0.724310</td>\n",
              "      <td>-0.500482</td>\n",
              "      <td>-0.470722</td>\n",
              "      <td>-0.479342</td>\n",
              "      <td>-0.377145</td>\n",
              "      <td>0.596817</td>\n",
              "      <td>-0.461462</td>\n",
              "      <td>-0.303355</td>\n",
              "      <td>-0.053074</td>\n",
              "    </tr>\n",
              "    <tr>\n",
              "      <th>2</th>\n",
              "      <td>0.813034</td>\n",
              "      <td>0.724310</td>\n",
              "      <td>-0.724310</td>\n",
              "      <td>0.192616</td>\n",
              "      <td>-0.470722</td>\n",
              "      <td>-0.479342</td>\n",
              "      <td>-0.474867</td>\n",
              "      <td>0.596817</td>\n",
              "      <td>-0.461462</td>\n",
              "      <td>-0.303355</td>\n",
              "      <td>-0.053074</td>\n",
              "    </tr>\n",
              "    <tr>\n",
              "      <th>3</th>\n",
              "      <td>0.813034</td>\n",
              "      <td>0.724310</td>\n",
              "      <td>-0.724310</td>\n",
              "      <td>-0.269449</td>\n",
              "      <td>0.379923</td>\n",
              "      <td>-0.479342</td>\n",
              "      <td>-0.476230</td>\n",
              "      <td>0.596817</td>\n",
              "      <td>-0.461462</td>\n",
              "      <td>-0.303355</td>\n",
              "      <td>-0.053074</td>\n",
              "    </tr>\n",
              "    <tr>\n",
              "      <th>4</th>\n",
              "      <td>0.813034</td>\n",
              "      <td>-1.380624</td>\n",
              "      <td>1.380624</td>\n",
              "      <td>-1.809667</td>\n",
              "      <td>2.931860</td>\n",
              "      <td>2.048742</td>\n",
              "      <td>-0.025249</td>\n",
              "      <td>0.596817</td>\n",
              "      <td>-0.461462</td>\n",
              "      <td>-0.303355</td>\n",
              "      <td>-0.053074</td>\n",
              "    </tr>\n",
              "  </tbody>\n",
              "</table>\n",
              "</div>"
            ],
            "text/plain": [
              "     Pclass  Sex_male  Sex_female  ...  Embarked_C  Embarked_Q  Embarked_nan\n",
              "0 -1.614136  0.724310   -0.724310  ...   -0.461462   -0.303355     -0.053074\n",
              "1 -0.400551  0.724310   -0.724310  ...   -0.461462   -0.303355     -0.053074\n",
              "2  0.813034  0.724310   -0.724310  ...   -0.461462   -0.303355     -0.053074\n",
              "3  0.813034  0.724310   -0.724310  ...   -0.461462   -0.303355     -0.053074\n",
              "4  0.813034 -1.380624    1.380624  ...   -0.461462   -0.303355     -0.053074\n",
              "\n",
              "[5 rows x 11 columns]"
            ]
          },
          "metadata": {
            "tags": []
          },
          "execution_count": 14
        }
      ]
    },
    {
      "cell_type": "markdown",
      "metadata": {
        "id": "wWou049GLmOP"
      },
      "source": [
        "# Check `LinearRegression` Metrics"
      ]
    },
    {
      "cell_type": "code",
      "metadata": {
        "id": "EU3A8xxTI7ms",
        "outputId": "e108ac03-bd06-4f3f-bc1c-1b8fb4bf6fc0",
        "colab": {
          "base_uri": "https://localhost:8080/",
          "height": 52
        }
      },
      "source": [
        "# from sklearn.metrics import accuracy_score\n",
        "\n",
        "print('Training Accuracy Score:', model_lin.score(X_train, y_train))\n",
        "print('Validation Accuracy Score:', model_lin.score(X_val, y_val))"
      ],
      "execution_count": 16,
      "outputs": [
        {
          "output_type": "stream",
          "text": [
            "Training Accuracy Score: 0.38351734071668986\n",
            "Validation Accuracy Score: 0.44433715476781926\n"
          ],
          "name": "stdout"
        }
      ]
    },
    {
      "cell_type": "markdown",
      "metadata": {
        "id": "ps4mctvFMoSx"
      },
      "source": [
        "Why is our `LinearRegression` model so bad?"
      ]
    },
    {
      "cell_type": "code",
      "metadata": {
        "id": "-tuVbsXlMZPd"
      },
      "source": [
        "import matplotlib.pyplot as plt"
      ],
      "execution_count": 17,
      "outputs": []
    },
    {
      "cell_type": "code",
      "metadata": {
        "id": "tsrcXTRpMs_k",
        "outputId": "839fc52f-65d2-4fb2-ea88-e1e527057c03",
        "colab": {
          "base_uri": "https://localhost:8080/",
          "height": 279
        }
      },
      "source": [
        "plt.scatter(X_train['Age'], y_train)\n",
        "plt.xlabel('Age')\n",
        "plt.ylabel('Survived');"
      ],
      "execution_count": 18,
      "outputs": [
        {
          "output_type": "display_data",
          "data": {
            "image/png": "[encoded data removed]",
            "text/plain": [
              "<Figure size 432x288 with 1 Axes>"
            ]
          },
          "metadata": {
            "tags": [],
            "needs_background": "light"
          }
        }
      ]
    },
    {
      "cell_type": "markdown",
      "metadata": {
        "id": "VHY4sHl3NYf6"
      },
      "source": [
        "# Build Out `LogisticRegression` Model"
      ]
    },
    {
      "cell_type": "code",
      "metadata": {
        "id": "_RFtxwfHM8be",
        "outputId": "7445cfb8-d49d-40c0-ea5c-d5664f5e4c8d",
        "colab": {
          "base_uri": "https://localhost:8080/",
          "height": 72
        }
      },
      "source": [
        "model_log = make_pipeline(\n",
        "       OneHotEncoder(use_cat_names=True),\n",
        "       SimpleImputer(),\n",
        "       StandardScaler(),\n",
        "       LogisticRegression()\n",
        ")\n",
        "\n",
        "model_log.fit(X_train, y_train);"
      ],
      "execution_count": 19,
      "outputs": [
        {
          "output_type": "stream",
          "text": [
            "/usr/local/lib/python3.6/dist-packages/category_encoders/utils.py:21: FutureWarning: is_categorical is deprecated and will be removed in a future version.  Use is_categorical_dtype instead\n",
            "  elif pd.api.types.is_categorical(cols):\n"
          ],
          "name": "stderr"
        }
      ]
    },
    {
      "cell_type": "markdown",
      "metadata": {
        "id": "wMtmMLirNnAX"
      },
      "source": [
        "# Check `LogisiticRegression` Metrics"
      ]
    },
    {
      "cell_type": "code",
      "metadata": {
        "id": "zxzcYT-HNkHj",
        "outputId": "7ec94cd2-0442-4176-dbd2-4c7bbb1a6767",
        "colab": {
          "base_uri": "https://localhost:8080/",
          "height": 52
        }
      },
      "source": [
        "print('Training Accuracy Score:', model_log.score(X_train, y_train))\n",
        "print('Validation Accuracy Score:', model_log.score(X_val, y_val))"
      ],
      "execution_count": 20,
      "outputs": [
        {
          "output_type": "stream",
          "text": [
            "Training Accuracy Score: 0.8019662921348315\n",
            "Validation Accuracy Score: 0.8100558659217877\n"
          ],
          "name": "stdout"
        }
      ]
    },
    {
      "cell_type": "markdown",
      "metadata": {
        "id": "GlXZtIzrQMc4"
      },
      "source": [
        "# Make Predictions"
      ]
    },
    {
      "cell_type": "code",
      "metadata": {
        "id": "xAh3V9yRNseo"
      },
      "source": [
        "# Make predictions\n",
        "y_pred = model_log.predict(test)\n",
        "\n",
        "# Put predictions into a DataFrame\n",
        "submission = pd.DataFrame(y_pred, columns=['Survived'], index=test.index)\n",
        "\n",
        "# Make a CSV file\n",
        "submission.to_csv('2020-10-01_submission.csv')"
      ],
      "execution_count": 34,
      "outputs": []
    },
    {
      "cell_type": "code",
      "metadata": {
        "id": "GPSP8Mv8QPgE",
        "outputId": "cebc0c0b-c928-44dd-9cc5-198fde42f458",
        "colab": {
          "base_uri": "https://localhost:8080/",
          "height": 233
        }
      },
      "source": [
        ""
      ],
      "execution_count": 33,
      "outputs": [
        {
          "output_type": "execute_result",
          "data": {
            "text/html": [
              "<div>\n",
              "<style scoped>\n",
              "    .dataframe tbody tr th:only-of-type {\n",
              "        vertical-align: middle;\n",
              "    }\n",
              "\n",
              "    .dataframe tbody tr th {\n",
              "        vertical-align: top;\n",
              "    }\n",
              "\n",
              "    .dataframe thead th {\n",
              "        text-align: right;\n",
              "    }\n",
              "</style>\n",
              "<table border=\"1\" class=\"dataframe\">\n",
              "  <thead>\n",
              "    <tr style=\"text-align: right;\">\n",
              "      <th></th>\n",
              "      <th>Survived</th>\n",
              "    </tr>\n",
              "    <tr>\n",
              "      <th>PassengerId</th>\n",
              "      <th></th>\n",
              "    </tr>\n",
              "  </thead>\n",
              "  <tbody>\n",
              "    <tr>\n",
              "      <th>892</th>\n",
              "      <td>0</td>\n",
              "    </tr>\n",
              "    <tr>\n",
              "      <th>893</th>\n",
              "      <td>0</td>\n",
              "    </tr>\n",
              "    <tr>\n",
              "      <th>894</th>\n",
              "      <td>0</td>\n",
              "    </tr>\n",
              "    <tr>\n",
              "      <th>895</th>\n",
              "      <td>0</td>\n",
              "    </tr>\n",
              "    <tr>\n",
              "      <th>896</th>\n",
              "      <td>1</td>\n",
              "    </tr>\n",
              "  </tbody>\n",
              "</table>\n",
              "</div>"
            ],
            "text/plain": [
              "             Survived\n",
              "PassengerId          \n",
              "892                 0\n",
              "893                 0\n",
              "894                 0\n",
              "895                 0\n",
              "896                 1"
            ]
          },
          "metadata": {
            "tags": []
          },
          "execution_count": 33
        }
      ]
    },
    {
      "cell_type": "code",
      "metadata": {
        "id": "BEhvOi3tQ3-k"
      },
      "source": [
        ""
      ],
      "execution_count": null,
      "outputs": []
    }
  ]
}
